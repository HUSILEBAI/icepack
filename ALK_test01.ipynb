{
 "cells": [
  {
   "cell_type": "code",
   "execution_count": null,
   "id": "6b3d5ca5-e764-4578-8ffb-0b679d16fc4c",
   "metadata": {},
   "outputs": [],
   "source": [
    "!pwd \n"
   ]
  },
  {
   "cell_type": "code",
   "execution_count": null,
   "id": "136f1621-5962-4283-a336-c027a1353bd2",
   "metadata": {},
   "outputs": [],
   "source": [
    "import firedrake\n",
    "import icepack"
   ]
  },
  {
   "cell_type": "code",
   "execution_count": null,
   "id": "59eae6a7-8eba-4f30-9883-1ef6a82dcba0",
   "metadata": {},
   "outputs": [],
   "source": [
    "import geojson\n",
    "\n",
    "outline_filename = \"mergedfile.geojson\"\n",
    "with open(outline_filename, \"r\") as outline_file:\n",
    "    outline = geojson.load(outline_file)"
   ]
  },
  {
   "cell_type": "code",
   "execution_count": null,
   "id": "b8537738-3c81-430e-be05-67dc7fc7809f",
   "metadata": {},
   "outputs": [],
   "source": [
    "coords = list(geojson.utils.coords(outline))"
   ]
  },
  {
   "cell_type": "code",
   "execution_count": null,
   "id": "bc6abb81-8a17-4afa-86c5-49aa63368051",
   "metadata": {},
   "outputs": [],
   "source": [
    "import pyproj\n",
    "lat_lon = pyproj.CRS(4326)\n",
    "utm8 = pyproj.CRS(32608)\n",
    "transformer = pyproj.Transformer.from_crs(lat_lon, utm8)\n",
    "print(transformer.transform(coords[0][0], coords[0][1]))\n",
    "print(transformer.transform(coords[0][1], coords[0][0]))"
   ]
  },
  {
   "cell_type": "code",
   "execution_count": null,
   "id": "bd8e6887-2735-41a8-b45c-e57b353f4a12",
   "metadata": {},
   "outputs": [],
   "source": [
    "print(outline[\"crs\"][\"properties\"][\"name\"])"
   ]
  },
  {
   "cell_type": "code",
   "execution_count": null,
   "id": "16f5ba47-98ba-447c-9664-df8377ef45fe",
   "metadata": {},
   "outputs": [],
   "source": [
    "import numpy as np\n",
    "\n",
    "δ = 50e3\n",
    "coords = np.array(list(geojson.utils.coords(outline)))\n",
    "xmin, xmax = coords[:, 0].min() - δ, coords[:, 0].max() + δ\n",
    "ymin, ymax = coords[:, 1].min() - δ, coords[:, 1].max() + δ"
   ]
  },
  {
   "cell_type": "code",
   "execution_count": null,
   "id": "d93a0075-7980-49be-b033-0144cebd81df",
   "metadata": {},
   "outputs": [],
   "source": [
    "import icepack.plot\n",
    "\n",
    "fig, axes = icepack.plot.subplots()\n",
    "\n",
    "for feature in outline[\"features\"]:\n",
    "    for line_string in feature[\"geometry\"][\"coordinates\"]:\n",
    "        xs = np.array(line_string)\n",
    "        axes.plot(xs[:, 0], xs[:, 1], linewidth=2)\n",
    "\n",
    "axes.set_xlabel(\"longitude\");"
   ]
  },
  {
   "cell_type": "markdown",
   "id": "d286725f-2d09-4681-ade0-ed2e94420511",
   "metadata": {},
   "source": [
    "Initial mesh generation."
   ]
  },
  {
   "cell_type": "code",
   "execution_count": null,
   "id": "cb5cd4f3-c82a-4221-af80-2a0c5fa95eba",
   "metadata": {},
   "outputs": [],
   "source": [
    "from meshpy import triangle"
   ]
  },
  {
   "cell_type": "code",
   "execution_count": null,
   "id": "fc907616-51ce-4cea-b3a2-4d3c89e58a05",
   "metadata": {},
   "outputs": [],
   "source": [
    "geometry = icepack.meshing.collection_to_triangle(outline)"
   ]
  },
  {
   "cell_type": "code",
   "execution_count": null,
   "id": "978e2c49-f073-43ae-94f6-92dafcc8cfa9",
   "metadata": {},
   "outputs": [],
   "source": [
    "triangle_mesh = triangle.build(geometry, max_volume=4e-5)"
   ]
  },
  {
   "cell_type": "code",
   "execution_count": null,
   "id": "c62f7546-cde5-45c4-8837-2df527074d79",
   "metadata": {},
   "outputs": [],
   "source": [
    "mesh = icepack.meshing.triangle_to_firedrake(triangle_mesh)"
   ]
  },
  {
   "cell_type": "code",
   "execution_count": null,
   "id": "364bf601-039b-4807-b1e3-91d9a7e341de",
   "metadata": {},
   "outputs": [],
   "source": [
    "Q = firedrake.FunctionSpace(mesh, \"CG\", 2)\n",
    "V = firedrake.VectorFunctionSpace(mesh, \"CG\", 2)"
   ]
  },
  {
   "cell_type": "code",
   "execution_count": null,
   "id": "2165ed82-24e8-47d2-93ab-8f86e7e5f69f",
   "metadata": {},
   "outputs": [],
   "source": [
    "fig, axes = icepack.plot.subplots()\n",
    "firedrake.triplot(mesh, axes=axes)\n",
    "#axes.legend()"
   ]
  },
  {
   "cell_type": "code",
   "execution_count": null,
   "id": "b97de599-ba62-4142-bff8-b52353f14440",
   "metadata": {},
   "outputs": [],
   "source": [
    "S = firedrake.FunctionSpace(mesh, \"DG\", 0)\n",
    "areas = firedrake.project(firedrake.CellVolume(mesh), S)"
   ]
  },
  {
   "cell_type": "code",
   "execution_count": null,
   "id": "7e054380-9a26-4cde-a0b1-a8a77514c7a7",
   "metadata": {},
   "outputs": [],
   "source": [
    "fig, axes = icepack.plot.subplots()\n",
    "colors = firedrake.tripcolor(areas, axes=axes)\n",
    "fig.colorbar(colors);"
   ]
  },
  {
   "cell_type": "markdown",
   "id": "2243b270-2780-4012-8217-98b17f7b2b43",
   "metadata": {},
   "source": [
    "Mesh refinement."
   ]
  },
  {
   "cell_type": "code",
   "execution_count": null,
   "id": "b9a7d901-98cc-4e22-9695-911f46487423",
   "metadata": {},
   "outputs": [],
   "source": [
    "x = firedrake.SpatialCoordinate(mesh)\n",
    "expr = firedrake.conditional(\n",
    "    x[1] <= 62.9,\n",
    "    areas / 2,\n",
    "    areas\n",
    ")\n",
    "desired_areas = firedrake.project(expr, S)"
   ]
  },
  {
   "cell_type": "code",
   "execution_count": null,
   "id": "adb77653-0838-445c-99af-4691d7f8abd0",
   "metadata": {},
   "outputs": [],
   "source": [
    "fig, axes = icepack.plot.subplots()\n",
    "colors = firedrake.tripcolor(desired_areas, axes=axes)\n",
    "fig.colorbar(colors);"
   ]
  },
  {
   "cell_type": "code",
   "execution_count": null,
   "id": "89735332-9d18-49a9-9e7b-976e3d70b0ef",
   "metadata": {},
   "outputs": [],
   "source": [
    "triangle_mesh.element_volumes.setup()\n",
    "for index, area in enumerate(desired_areas.dat.data_ro):\n",
    "    triangle_mesh.element_volumes[index] = area"
   ]
  },
  {
   "cell_type": "code",
   "execution_count": null,
   "id": "45c504f0-7487-45cb-b3fc-a8a2213e8745",
   "metadata": {},
   "outputs": [],
   "source": [
    "refined_triangle_mesh = triangle.refine(triangle_mesh)"
   ]
  },
  {
   "cell_type": "code",
   "execution_count": null,
   "id": "c0b71c6b-f6cb-43dd-b5b3-e80ca5c8b230",
   "metadata": {},
   "outputs": [],
   "source": [
    "fine_mesh = icepack.meshing.triangle_to_firedrake(refined_triangle_mesh)"
   ]
  },
  {
   "cell_type": "code",
   "execution_count": null,
   "id": "35116134-11fe-41f3-94f0-477c37480ff2",
   "metadata": {},
   "outputs": [],
   "source": [
    "fig, axes = icepack.plot.subplots()\n",
    "firedrake.triplot(fine_mesh, axes=axes);"
   ]
  }
 ],
 "metadata": {
  "kernelspec": {
   "display_name": "firedrake",
   "language": "python",
   "name": "firedrake"
  },
  "language_info": {
   "codemirror_mode": {
    "name": "ipython",
    "version": 3
   },
   "file_extension": ".py",
   "mimetype": "text/x-python",
   "name": "python",
   "nbconvert_exporter": "python",
   "pygments_lexer": "ipython3",
   "version": "3.10.11"
  }
 },
 "nbformat": 4,
 "nbformat_minor": 5
}
